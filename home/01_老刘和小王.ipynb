{
 "cells": [
  {
   "cell_type": "markdown",
   "metadata": {},
   "source": [
    "[好奇的Julia](index.ipynb)"
   ]
  },
  {
   "cell_type": "markdown",
   "metadata": {},
   "source": [
    "# 老刘和小王"
   ]
  },
  {
   "cell_type": "markdown",
   "metadata": {},
   "source": [
    "第二天，小王接着来老刘家拜访。好奇的Julia去小朋友家玩去了。"
   ]
  },
  {
   "cell_type": "markdown",
   "metadata": {},
   "source": [
    "小王：“老刘，我昨天看到你那个Julia很有意思。你知道我是个只会用Matlab软件的编程小白。现在公司里大家都在搞大数据和人工智能，所有人都在学Python和Tensorflow，这个刚出来的Julia现在炒得正热，您这位物理学家出身的程序员写软件快三十年了，从Fortran到JavaScript都用过。您说我该学哪个呢?您没有先见之明，哪个语言二十年后不会过时？”"
   ]
  },
  {
   "cell_type": "markdown",
   "metadata": {},
   "source": [
    "老刘：“谁都不能预知未来，现在都说不定过五年十年程序员都会被人工智能取代。但是我们可以从历史学到一点东西。”"
   ]
  },
  {
   "cell_type": "markdown",
   "metadata": {},
   "source": [
    "小王：“历史从哪里开始呢？”"
   ]
  },
  {
   "cell_type": "markdown",
   "metadata": {},
   "source": [
    "老刘：“让我们从计算机(computer)这个名词开始吧。你是否知道computer这个词曾经也是一个职业的名字？中文可以翻译成为[计算员](https://zh.wikipedia.org/wiki/%E8%A8%88%E7%AE%97%E5%93%A1)。和现在的programmer翻译成程序员是一个道理。”"
   ]
  },
  {
   "cell_type": "markdown",
   "metadata": {},
   "source": [
    "小王：“明白了，所以照此类推，以后的programmer也会翻译成程序机了？”"
   ]
  },
  {
   "cell_type": "markdown",
   "metadata": {},
   "source": [
    "老刘：“可以这么看。从计算员到计算机是一个计算自动化的过程，可以想象从程序员到程序机也可以是一种编程自动化的过程。”"
   ]
  },
  {
   "cell_type": "markdown",
   "metadata": {},
   "source": [
    "小王：“编程自动化！太好了。怎么没有早想到这个好主意呢？”"
   ]
  },
  {
   "cell_type": "markdown",
   "metadata": {},
   "source": [
    "老刘：“其实最早的计算机是用硬件联线‘编程’的，后来有人发明了用代码代表机器的运算步骤和数据存储位置，这就是汇编语言。”"
   ]
  },
  {
   "cell_type": "markdown",
   "metadata": {},
   "source": [
    "小王：“原来汇编语言就是编程自动化了？”"
   ]
  },
  {
   "cell_type": "markdown",
   "metadata": {},
   "source": [
    "老刘：“不完全是，汇编语言和机器操作基本上是一对一的，我们也可以用用缩略语代替长的指令。汇编语言让我们了解机器到底是如何做具体计算的。\n",
    "\n",
    "真正意义上的编程自动化是发明了[编译器](https://zh.wikipedia.org/zh-cn/%E7%B7%A8%E8%AD%AF%E5%99%A8)和[解释器](https://zh.wikipedia.org/zh-cn/%E7%9B%B4%E8%AD%AF%E5%99%A8)之后。这样人们就可以用高级语言来编程了。但是从严格意义上这是编程半自动化，因为还需要人来写高级语言描述数据结构和计算步骤。由于自动化，程序员往往不知道底层计算到底是怎么回事。”"
   ]
  },
  {
   "cell_type": "markdown",
   "metadata": {},
   "source": [
    "小王：“很好奇想知道汇编语言和底层计算到底是什么样子的？”"
   ]
  },
  {
   "cell_type": "markdown",
   "metadata": {},
   "source": [
    "老刘：“这和你用的电脑CPU的[指令集](https://zh.wikipedia.org/wiki/%E6%8C%87%E4%BB%A4%E9%9B%86%E6%9E%B6%E6%A7%8B)有关系。让我举个例子。”"
   ]
  },
  {
   "cell_type": "markdown",
   "metadata": {},
   "source": [
    "“这是用Julia高级语言描述 `1 + 2` （是不是和学校学的算术很像？）” "
   ]
  },
  {
   "cell_type": "code",
   "execution_count": 1,
   "metadata": {},
   "outputs": [
    {
     "data": {
      "text/plain": [
       "3"
      ]
     },
     "execution_count": 1,
     "metadata": {},
     "output_type": "execute_result"
    }
   ],
   "source": [
    "1 + 2"
   ]
  },
  {
   "cell_type": "markdown",
   "metadata": {},
   "source": [
    "这是我的苹果电脑Intel CPU的指令"
   ]
  },
  {
   "cell_type": "code",
   "execution_count": 2,
   "metadata": {
    "scrolled": false
   },
   "outputs": [
    {
     "name": "stdout",
     "output_type": "stream",
     "text": [
      "\t.text\n",
      "; Function + {\n",
      "; Location: int.jl:53\n",
      "\tleaq\t(%rdi,%rsi), %rax\n",
      "\tretq\n",
      "\tnopw\t%cs:(%rax,%rax)\n",
      ";}\n"
     ]
    }
   ],
   "source": [
    "@code_native 1 + 2"
   ]
  },
  {
   "cell_type": "markdown",
   "metadata": {},
   "source": [
    "以下这个Julia命令告诉我很多信息，包括我用的是什么CPU。"
   ]
  },
  {
   "cell_type": "code",
   "execution_count": 3,
   "metadata": {},
   "outputs": [
    {
     "name": "stdout",
     "output_type": "stream",
     "text": [
      "Julia Version 1.0.0\n",
      "Commit 5d4eaca0c9 (2018-08-08 20:58 UTC)\n",
      "Platform Info:\n",
      "  OS: Linux (x86_64-pc-linux-gnu)\n",
      "  CPU: Intel(R) Core(TM) i7-4770HQ CPU @ 2.20GHz\n",
      "  WORD_SIZE: 64\n",
      "  LIBM: libopenlibm\n",
      "  LLVM: libLLVM-6.0.0 (ORCJIT, haswell)\n",
      "Environment:\n",
      "  JULIA_PATH = /usr/local/julia\n",
      "  JULIA_GPG = 3673DF529D9049477F76B37566E3C7DC03D6E495\n",
      "  JULIA_VERSION = 1.0.0\n"
     ]
    }
   ],
   "source": [
    "versioninfo()"
   ]
  },
  {
   "cell_type": "markdown",
   "metadata": {},
   "source": [
    "小王：“原来这就是电脑怎样算 `1 + 2` 的。太神奇了。”"
   ]
  },
  {
   "cell_type": "markdown",
   "metadata": {},
   "source": [
    "老刘：“是的。Julia是一种高级语言，但是和其它编译或者解释型的语言有点儿不太一样。我们以后有时间再聊。”"
   ]
  },
  {
   "cell_type": "markdown",
   "metadata": {},
   "source": [
    "待续 ..."
   ]
  }
 ],
 "metadata": {
  "kernelspec": {
   "display_name": "Julia 1.0.0",
   "language": "julia",
   "name": "julia-1.0"
  },
  "language_info": {
   "file_extension": ".jl",
   "mimetype": "application/julia",
   "name": "julia",
   "version": "1.0.0"
  }
 },
 "nbformat": 4,
 "nbformat_minor": 2
}
