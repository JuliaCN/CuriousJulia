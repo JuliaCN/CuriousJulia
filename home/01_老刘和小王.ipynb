{
 "cells": [
  {
   "cell_type": "markdown",
   "metadata": {},
   "source": [
    "[好奇的Julia](index.ipynb)"
   ]
  },
  {
   "cell_type": "markdown",
   "metadata": {},
   "source": [
    "# 老刘和小王"
   ]
  },
  {
   "cell_type": "markdown",
   "metadata": {},
   "source": [
    "第二天，小王接着来老刘家拜访。好奇的Julia去小朋友家玩去了。"
   ]
  },
  {
   "cell_type": "markdown",
   "metadata": {},
   "source": [
    "小王：“老刘，我昨天看到你那个Julia很有意思。你知道我是个只会用Matlab软件的编程小白。现在公司里大家都在搞大数据和人工智能，所有人都在学Python和Tensorflow，这个刚出来的Julia现在炒得正热，您这位物理学家出身的程序员写软件快三十年了，从Fortran到JavaScript都用过。您说我该学哪个呢?您没有先见之明，哪个语言二十年后不会过时？”"
   ]
  },
  {
   "cell_type": "markdown",
   "metadata": {},
   "source": [
    "老刘：“谁都不能预知未来，现在都说不定过五年十年程序员都会被人工智能取代。但是我们可以从历史学到一点东西。”"
   ]
  },
  {
   "cell_type": "markdown",
   "metadata": {},
   "source": [
    "小王：“历史从哪里开始呢？”"
   ]
  },
  {
   "cell_type": "markdown",
   "metadata": {},
   "source": [
    "老刘：“让我们从计算机(computer)这个名词开始吧。\n",
    "\n",
    "你是否知道computer这个词曾经也是一个职业的名字？中文可以翻译成为[计算员](https://zh.wikipedia.org/wiki/%E8%A8%88%E7%AE%97%E5%93%A1)。和现在的programmer翻译成程序员是一个道理。”"
   ]
  },
  {
   "cell_type": "markdown",
   "metadata": {},
   "source": [
    "小王：“明白了，所以照此类推，以后的programmer也会翻译成为程序机了？”"
   ]
  }
 ],
 "metadata": {
  "kernelspec": {
   "display_name": "Julia 1.0.0",
   "language": "julia",
   "name": "julia-1.0"
  },
  "language_info": {
   "file_extension": ".jl",
   "mimetype": "application/julia",
   "name": "julia",
   "version": "1.0.0"
  }
 },
 "nbformat": 4,
 "nbformat_minor": 2
}
