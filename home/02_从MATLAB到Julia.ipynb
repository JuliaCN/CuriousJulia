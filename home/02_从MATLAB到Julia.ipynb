{
 "cells": [
  {
   "cell_type": "markdown",
   "metadata": {},
   "source": [
    "[好奇的Julia](index.ipynb)"
   ]
  },
  {
   "cell_type": "markdown",
   "metadata": {},
   "source": [
    "# 从MATLAB到Julia"
   ]
  },
  {
   "cell_type": "markdown",
   "metadata": {},
   "source": [
    "维基百科背景资料：\n",
    "\n",
    "- [MATLAB](https://en.wikipedia.org/wiki/MATLAB)\n",
    "\n",
    "- [MATLAB（矩阵实验室）](https://zh.wikipedia.org/wiki/MATLAB)\n",
    "\n",
    "- [Julia (programming language)](https://en.wikipedia.org/wiki/Julia_(programming_language))\n",
    "\n",
    "- [Julia (编程语言)](https://zh.wikipedia.org/wiki/Julia_(%E7%BC%96%E7%A8%8B%E8%AF%AD%E8%A8%80))"
   ]
  },
  {
   "cell_type": "markdown",
   "metadata": {},
   "source": [
    "小王是位数据科学家。工作中用的软件叫做MATLAB。他会使用各种数据处理和可视化的软件包，也能写一点简单的自动化脚本来减轻自己的工作负担。\n",
    "\n",
    "但是小王大学里没有系统性学过计算机课，也没有受过专业编程培训。但是和小Julia一样，小王是个好奇的年轻人。他对软件到底是怎样开发出来的很感兴趣。周末到了，于是小王又来到了老刘家聊计算机。"
   ]
  }
 ],
 "metadata": {
  "kernelspec": {
   "display_name": "Julia 1.0.0",
   "language": "julia",
   "name": "julia-1.0"
  },
  "language_info": {
   "file_extension": ".jl",
   "mimetype": "application/julia",
   "name": "julia",
   "version": "1.0.0"
  }
 },
 "nbformat": 4,
 "nbformat_minor": 2
}
