{
 "cells": [
  {
   "cell_type": "markdown",
   "metadata": {},
   "source": [
    "[好奇的Julia](index.ipynb)"
   ]
  },
  {
   "cell_type": "markdown",
   "metadata": {},
   "source": [
    "# 从MATLAB到Julia"
   ]
  },
  {
   "cell_type": "markdown",
   "metadata": {},
   "source": [
    "维基百科背景资料：\n",
    "\n",
    "- [MATLAB](https://en.wikipedia.org/wiki/MATLAB)\n",
    "- [MATLAB（矩阵实验室）](https://zh.wikipedia.org/wiki/MATLAB)\n",
    "- <a href=\"https://en.wikipedia.org/wiki/Julia_(programming_language)\">Julia (programming language)</a>\n",
    "- <a href=\"https://zh.wikipedia.org/wiki/Julia_(%E7%BC%96%E7%A8%8B%E8%AF%AD%E8%A8%80)\">Julia (编程语言)</a>"
   ]
  },
  {
   "cell_type": "markdown",
   "metadata": {},
   "source": [
    "小王是位数据科学家。工作中用的软件叫做MATLAB。他会使用各种数据处理和可视化的软件包，也能写一点简单的自动化脚本来减轻自己的工作负担。\n",
    "\n",
    "但是小王大学里没有系统性学过计算机课，也没有受过专业编程培训。但是和小Julia一样，小王是个好奇的年轻人。他对软件到底是怎样开发出来的很感兴趣。周末到了，于是小王又来到了老刘家聊计算机。"
   ]
  },
  {
   "cell_type": "markdown",
   "metadata": {},
   "source": [
    "小王：“老刘，上次的[‘计算员’和‘程序员’的讨论](01_老刘和小王.ipynb)很有意思。还有汇编语言，编译器和解释等等。我听说Julia除了是个计算机语言以外，还是一个科学计算软件，和我工作中用到的MATLAB很相似。还听有人说MATLAB也是一个计算机语言。那么计算机软件和计算机语言究竟是不是一回事？如果不是，两者之间是什么关系？计算机程序和它们又是什么关系？“"
   ]
  }
 ],
 "metadata": {
  "kernelspec": {
   "display_name": "Julia 1.0.0",
   "language": "julia",
   "name": "julia-1.0"
  },
  "language_info": {
   "file_extension": ".jl",
   "mimetype": "application/julia",
   "name": "julia",
   "version": "1.0.0"
  }
 },
 "nbformat": 4,
 "nbformat_minor": 2
}
