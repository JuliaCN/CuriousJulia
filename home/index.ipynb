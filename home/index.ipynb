{
 "cells": [
  {
   "cell_type": "markdown",
   "metadata": {},
   "source": [
    "# 好奇的Julia\n",
    "\n",
    "- [好奇的Julia](00_好奇的Julia.ipynb)\n",
    "- [老刘和小王](01_老刘和小王.ipynb)\n",
    "- [从MATLAB到Julia](02_从MATLAB到Julia.ipynb)"
   ]
  }
 ],
 "metadata": {
  "kernelspec": {
   "display_name": "Julia 1.0.0",
   "language": "julia",
   "name": "julia-1.0"
  },
  "language_info": {
   "file_extension": ".jl",
   "mimetype": "application/julia",
   "name": "julia",
   "version": "1.0.0"
  }
 },
 "nbformat": 4,
 "nbformat_minor": 2
}
